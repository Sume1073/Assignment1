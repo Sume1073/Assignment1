{
 "cells": [
  {
   "cell_type": "code",
   "execution_count": 40,
   "id": "f2a8e295",
   "metadata": {},
   "outputs": [],
   "source": [
    "import pandas as pd"
   ]
  },
  {
   "cell_type": "code",
   "execution_count": 41,
   "id": "538bd0c4",
   "metadata": {},
   "outputs": [],
   "source": [
    "file_path = \"Assignment_Timecard.xlsx\"\n",
    "df = pd.read_excel(\"C:/Users/Sumedha/Documents/Project files/Python-Sumedha/Assignment_Timecard.xlsx\")"
   ]
  },
  {
   "cell_type": "markdown",
   "id": "88164dec",
   "metadata": {},
   "source": [
    "### Define a function to check if an employee has worked for 7 consecutive days"
   ]
  },
  {
   "cell_type": "code",
   "execution_count": 42,
   "id": "29ad5150",
   "metadata": {},
   "outputs": [],
   "source": [
    "def has_worked_consecutively(employee_data):\n",
    "    # As the the Excel file contains a 'Pay Cycle End Date' column\n",
    "    sorted_data = employee_data.sort_values(by='Pay Cycle End Date')\n",
    "    consecutive_days = 1\n",
    "    for i in range(1, len(sorted_data)):\n",
    "        # Calculate the difference in days between consecutive dates\n",
    "        days_diff = (sorted_data.iloc[i]['Pay Cycle End Date'] - sorted_data.iloc[i-1]['Pay Cycle End Date']).days\n",
    "        if days_diff == 1:\n",
    "            consecutive_days += 1\n",
    "            if consecutive_days == 7:\n",
    "                return True\n",
    "        else:\n",
    "            consecutive_days = 1\n",
    "    return False\n"
   ]
  },
  {
   "cell_type": "markdown",
   "id": "3ef793b2",
   "metadata": {},
   "source": [
    "### Define a function to check if an employee has less than 10 hours of time between shifts but greater than 1 hour"
   ]
  },
  {
   "cell_type": "code",
   "execution_count": 43,
   "id": "c1182029",
   "metadata": {},
   "outputs": [],
   "source": [
    "def has_short_breaks(employee_data):\n",
    "    # As the Excel file contains a 'Time Out' and 'Time' columns\n",
    "    employee_data['Break Duration'] = (employee_data['Time'] - employee_data['Time Out'].shift(1)).dt.total_seconds() / 3600\n",
    "    return any((1 < employee_data['Break Duration']) & (employee_data['Break Duration'] < 10))"
   ]
  },
  {
   "cell_type": "markdown",
   "id": "1e14e1d1",
   "metadata": {},
   "source": [
    "### Define a function to check if an employee has worked for more than 14 hours in a single shift"
   ]
  },
  {
   "cell_type": "code",
   "execution_count": 44,
   "id": "c7b441d4",
   "metadata": {},
   "outputs": [],
   "source": [
    "def has_long_shift(employee_data):\n",
    "    # As the Excel file contains a 'Time' and 'Time Out' columns\n",
    "    employee_data['Shift Duration'] = (employee_data['Time'] - employee_data['Time Out']).dt.total_seconds() / 3600\n",
    "    return any(employee_data['Shift Duration'] > 14)"
   ]
  },
  {
   "cell_type": "markdown",
   "id": "73bbd0ea",
   "metadata": {},
   "source": [
    "### Iterate through the data and print the name and position of employees who meet the conditions"
   ]
  },
  {
   "cell_type": "code",
   "execution_count": 45,
   "id": "8c63cc6f",
   "metadata": {},
   "outputs": [
    {
     "name": "stdout",
     "output_type": "stream",
     "text": [
      "Long Shift Condition:\n",
      "Employee Name: Sparks, KeWWeMh\n",
      "Position: WFS000101\n",
      "---\n",
      "Short Breaks Condition:\n",
      "Employee Name: CaMaXaWE, CeghaW\n",
      "Position: WFS000153\n",
      "---\n",
      "Short Breaks Condition:\n",
      "Employee Name: Xee, XaCar\n",
      "Position: WFS000200\n",
      "---\n",
      "Short Breaks Condition:\n",
      "Employee Name: De Xa Cerda, IgWaciE\n",
      "Position: WFS000318\n",
      "---\n",
      "Short Breaks Condition:\n",
      "Employee Name: MraW, WiXXiaC Ha\n",
      "Position: WFS000345\n",
      "---\n",
      "Short Breaks Condition:\n",
      "Employee Name: CEreira Jr, JEse\n",
      "Position: WFS000456\n",
      "---\n",
      "Short Breaks Condition:\n",
      "Employee Name: GrACfieXd, CErWeXiAs\n",
      "Position: WFS000515\n",
      "---\n",
      "Short Breaks Condition:\n",
      "Employee Name: DeXgadiXXE REdarMe, ChrisMiaW S\n",
      "Position: WFS000523\n",
      "---\n",
      "Short Breaks Condition:\n",
      "Employee Name: HaCiXMEW, DeaWMe DevEW\n",
      "Position: WFS000536\n",
      "---\n",
      "Short Breaks Condition:\n",
      "Employee Name: REdrigAez, GraWdEW AWgeX\n",
      "Position: WFS000550\n",
      "---\n"
     ]
    }
   ],
   "source": [
    "# Iterating through the data and printing the name and position of employees who meet the conditions\n",
    "\n",
    "for employee_id, employee_data in df.groupby('File Number'):\n",
    "    if has_worked_consecutively(employee_data):\n",
    "        print(\"Consecutive Days Condition:\")\n",
    "        print(f\"Employee Name: {employee_data.iloc[0]['Employee Name']}\")\n",
    "        print(f\"Position: {employee_data.iloc[0]['Position ID']}\")\n",
    "        print(\"---\")\n",
    "    \n",
    "    if has_short_breaks(employee_data):\n",
    "        print(\"Short Breaks Condition:\")\n",
    "        print(f\"Employee Name: {employee_data.iloc[0]['Employee Name']}\")\n",
    "        print(f\"Position: {employee_data.iloc[0]['Position ID']}\")\n",
    "        print(\"---\")\n",
    "    \n",
    "    if has_long_shift(employee_data):\n",
    "        print(\"Long Shift Condition:\")\n",
    "        print(f\"Employee Name: {employee_data.iloc[0]['Employee Name']}\")\n",
    "        print(f\"Position: {employee_data.iloc[0]['Position ID']}\")\n",
    "        print(\"---\")\n",
    "\n"
   ]
  },
  {
   "cell_type": "code",
   "execution_count": null,
   "id": "9c9e810b",
   "metadata": {},
   "outputs": [],
   "source": []
  }
 ],
 "metadata": {
  "kernelspec": {
   "display_name": "Python 3 (ipykernel)",
   "language": "python",
   "name": "python3"
  },
  "language_info": {
   "codemirror_mode": {
    "name": "ipython",
    "version": 3
   },
   "file_extension": ".py",
   "mimetype": "text/x-python",
   "name": "python",
   "nbconvert_exporter": "python",
   "pygments_lexer": "ipython3",
   "version": "3.9.13"
  }
 },
 "nbformat": 4,
 "nbformat_minor": 5
}
